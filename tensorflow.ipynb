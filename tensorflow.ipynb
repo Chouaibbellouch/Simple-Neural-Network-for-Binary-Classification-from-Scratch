{
 "cells": [
  {
   "cell_type": "code",
   "execution_count": 17,
   "id": "be8cecaa-d22b-4ff9-abbe-74337968ec15",
   "metadata": {},
   "outputs": [],
   "source": [
    "import tensorflow as tf\n",
    "import sklearn"
   ]
  },
  {
   "cell_type": "code",
   "execution_count": 7,
   "id": "10b4125a-9af8-4720-b5a0-f240581819f2",
   "metadata": {},
   "outputs": [],
   "source": [
    "x=tf.Variable(3, name=\"x\")\n",
    "y=tf.Variable(4, name=\"y\")\n",
    "f=x*x*y+y+2"
   ]
  },
  {
   "cell_type": "code",
   "execution_count": 9,
   "id": "c7771962-5fe7-4e89-9c2e-635858764cc0",
   "metadata": {},
   "outputs": [
    {
     "name": "stdout",
     "output_type": "stream",
     "text": [
      "tf.Tensor(7, shape=(), dtype=int32)\n"
     ]
    }
   ],
   "source": [
    "print(x+y)"
   ]
  },
  {
   "cell_type": "code",
   "execution_count": 3,
   "id": "f1476189-bc83-40ef-b17f-8f0f4ec8855f",
   "metadata": {},
   "outputs": [],
   "source": [
    "w = tf.constant(3)\n",
    "x = w + 2\n",
    "y = x + 5\n",
    "z = x * 3"
   ]
  },
  {
   "cell_type": "code",
   "execution_count": 44,
   "id": "824da483-675b-45b6-a66f-12ac0e8fd449",
   "metadata": {},
   "outputs": [],
   "source": [
    "import numpy as np\n",
    "from sklearn.datasets import fetch_california_housing\n",
    "from sklearn.preprocessing import StandardScaler\n",
    "import matplotlib.pyplot as plt"
   ]
  },
  {
   "cell_type": "code",
   "execution_count": 27,
   "id": "da5ecdb0-bf24-43a0-9708-15485f6796c6",
   "metadata": {},
   "outputs": [
    {
     "name": "stdout",
     "output_type": "stream",
     "text": [
      "tf.Tensor(\n",
      "[[-3.6369858e+01]\n",
      " [ 4.3837374e-01]\n",
      " [ 9.5387232e-03]\n",
      " [-1.0928368e-01]\n",
      " [ 6.5278280e-01]\n",
      " [-3.6518991e-06]\n",
      " [-3.8027056e-03]\n",
      " [-4.1518757e-01]\n",
      " [-4.2780524e-01]], shape=(9, 1), dtype=float32)\n"
     ]
    }
   ],
   "source": [
    "housing = fetch_california_housing()\n",
    "m, n = housing.data.shape\n",
    "housing_data_plus_bias = np.c_[np.ones((m, 1)), housing.data]\n",
    "X = tf.constant(housing_data_plus_bias, dtype=tf.float32, name=\"X\")\n",
    "y = tf.constant(housing.target.reshape(-1, 1), dtype=tf.float32, name=\"y\")\n",
    "\n",
    "XT = tf.transpose(X)\n",
    "theta = tf.matmul(tf.matmul(tf.linalg.inv(tf.matmul(XT, X)), XT), y)\n",
    "print(theta)"
   ]
  },
  {
   "cell_type": "code",
   "execution_count": 66,
   "id": "011d4025-207f-46ec-ad2e-b4226afa2992",
   "metadata": {},
   "outputs": [
    {
     "name": "stdout",
     "output_type": "stream",
     "text": [
      "Epoch 0 MSE = 9.060819\n",
      "Epoch 100 MSE = 0.71551144\n",
      "Epoch 200 MSE = 0.5691974\n",
      "Epoch 300 MSE = 0.55500495\n",
      "Epoch 400 MSE = 0.5464309\n",
      "Epoch 500 MSE = 0.5402787\n",
      "Epoch 600 MSE = 0.53584003\n",
      "Epoch 700 MSE = 0.53263706\n",
      "Epoch 800 MSE = 0.5303255\n",
      "Epoch 900 MSE = 0.5286571\n"
     ]
    },
    {
     "data": {
      "image/png": "[encoded data removed]",
      "text/plain": [
       "<Figure size 640x480 with 1 Axes>"
      ]
     },
     "metadata": {},
     "output_type": "display_data"
    },
    {
     "data": {
      "text/plain": [
       "'C:/Users/Chouaib/ML/checkpoints/checkpoint_theta_LR_using_keras_as_optimizer_for_gradient-1'"
      ]
     },
     "execution_count": 66,
     "metadata": {},
     "output_type": "execute_result"
    }
   ],
   "source": [
    "m, n = housing.data.shape\n",
    "scaler = StandardScaler()\n",
    "scaled_housing_data = scaler.fit_transform(housing.data)\n",
    "scaled_housing_data_plus_bias = np.c_[np.ones((m, 1)), scaled_housing_data]\n",
    "\n",
    "n_epochs = 1000\n",
    "learning_rate = 0.01\n",
    "optimizer = tf.keras.optimizers.SGD(learning_rate=learning_rate)\n",
    "X = tf.constant(scaled_housing_data_plus_bias, dtype=tf.float32, name=\"X\")\n",
    "y = tf.constant(housing.target.reshape(-1, 1), dtype=tf.float32, name=\"y\")\n",
    "theta = tf.Variable(tf.random.uniform([n + 1, 1], -1.0, 1.0), name=\"theta\")\n",
    "mse_values = []\n",
    "#training loop\n",
    "for epoch in range(n_epochs):\n",
    "    with tf.GradientTape() as tape:\n",
    "        y_pred = tf.matmul(X, theta, name=\"predictions\")\n",
    "        error = y_pred - y\n",
    "        mse = tf.reduce_mean(tf.square(error), name=\"mse\")\n",
    "\n",
    "    gradients = tape.gradient(mse, theta)\n",
    "    optimizer.apply_gradients([(gradients, theta)])\n",
    "\n",
    "    # Enregistrer la valeur de MSE toutes les 10 époques\n",
    "    if epoch % 10 == 0:\n",
    "        mse_values.append(mse.numpy())\n",
    "        if epoch % 100 == 0:\n",
    "            print(\"Epoch\", epoch, \"MSE =\", mse.numpy())\n",
    "\n",
    "plt.plot(range(0, n_epochs, 10), mse_values)\n",
    "plt.xlabel(\"Epoch\")\n",
    "plt.ylabel(\"MSE\")\n",
    "plt.title(\"Convergence de la fonction de coût (MSE) au cours des itérations\")\n",
    "plt.show()\n",
    "\n",
    "checkpoint = tf.train.Checkpoint(theta=theta)\n",
    "checkpoint.save(\"C:/Users/Chouaib/ML/checkpoints/checkpoint_theta_LR_using_keras_as_optimizer_for_gradient\")"
   ]
  },
  {
   "cell_type": "code",
   "execution_count": 67,
   "id": "ea757c87-a025-41ef-a5a3-d9526faafce6",
   "metadata": {},
   "outputs": [],
   "source": [
    "import tensorflow as tf"
   ]
  },
  {
   "cell_type": "code",
   "execution_count": 70,
   "id": "9792afb0-c6f0-456c-8968-aa0269e3c8b1",
   "metadata": {},
   "outputs": [
    {
     "name": "stderr",
     "output_type": "stream",
     "text": [
      "C:\\Users\\Chouaib\\ML\\env\\Lib\\site-packages\\keras\\src\\layers\\core\\dense.py:87: UserWarning: Do not pass an `input_shape`/`input_dim` argument to a layer. When using Sequential models, prefer using an `Input(shape)` object as the first layer in the model instead.\n",
      "  super().__init__(activity_regularizer=activity_regularizer, **kwargs)\n"
     ]
    },
    {
     "name": "stdout",
     "output_type": "stream",
     "text": [
      "Epoch 1/10\n",
      "\u001b[1m29/29\u001b[0m \u001b[32m━━━━━━━━━━━━━━━━━━━━\u001b[0m\u001b[37m\u001b[0m \u001b[1m3s\u001b[0m 20ms/step - accuracy: 0.4661 - loss: 1.7670 - val_accuracy: 0.9139 - val_loss: 0.4402\n",
      "Epoch 2/10\n",
      "\u001b[1m29/29\u001b[0m \u001b[32m━━━━━━━━━━━━━━━━━━━━\u001b[0m\u001b[37m\u001b[0m \u001b[1m0s\u001b[0m 5ms/step - accuracy: 0.9426 - loss: 0.3160 - val_accuracy: 0.9611 - val_loss: 0.1734\n",
      "Epoch 3/10\n",
      "\u001b[1m29/29\u001b[0m \u001b[32m━━━━━━━━━━━━━━━━━━━━\u001b[0m\u001b[37m\u001b[0m \u001b[1m0s\u001b[0m 7ms/step - accuracy: 0.9741 - loss: 0.1371 - val_accuracy: 0.9722 - val_loss: 0.1138\n",
      "Epoch 4/10\n",
      "\u001b[1m29/29\u001b[0m \u001b[32m━━━━━━━━━━━━━━━━━━━━\u001b[0m\u001b[37m\u001b[0m \u001b[1m0s\u001b[0m 8ms/step - accuracy: 0.9876 - loss: 0.0777 - val_accuracy: 0.9722 - val_loss: 0.0940\n",
      "Epoch 5/10\n",
      "\u001b[1m29/29\u001b[0m \u001b[32m━━━━━━━━━━━━━━━━━━━━\u001b[0m\u001b[37m\u001b[0m \u001b[1m0s\u001b[0m 9ms/step - accuracy: 0.9927 - loss: 0.0557 - val_accuracy: 0.9667 - val_loss: 0.0863\n",
      "Epoch 6/10\n",
      "\u001b[1m29/29\u001b[0m \u001b[32m━━━━━━━━━━━━━━━━━━━━\u001b[0m\u001b[37m\u001b[0m \u001b[1m0s\u001b[0m 8ms/step - accuracy: 0.9960 - loss: 0.0336 - val_accuracy: 0.9778 - val_loss: 0.0775\n",
      "Epoch 7/10\n",
      "\u001b[1m29/29\u001b[0m \u001b[32m━━━━━━━━━━━━━━━━━━━━\u001b[0m\u001b[37m\u001b[0m \u001b[1m0s\u001b[0m 9ms/step - accuracy: 0.9986 - loss: 0.0248 - val_accuracy: 0.9750 - val_loss: 0.0744\n",
      "Epoch 8/10\n",
      "\u001b[1m29/29\u001b[0m \u001b[32m━━━━━━━━━━━━━━━━━━━━\u001b[0m\u001b[37m\u001b[0m \u001b[1m0s\u001b[0m 9ms/step - accuracy: 0.9994 - loss: 0.0166 - val_accuracy: 0.9750 - val_loss: 0.0724\n",
      "Epoch 9/10\n",
      "\u001b[1m29/29\u001b[0m \u001b[32m━━━━━━━━━━━━━━━━━━━━\u001b[0m\u001b[37m\u001b[0m \u001b[1m0s\u001b[0m 8ms/step - accuracy: 1.0000 - loss: 0.0149 - val_accuracy: 0.9778 - val_loss: 0.0718\n",
      "Epoch 10/10\n",
      "\u001b[1m29/29\u001b[0m \u001b[32m━━━━━━━━━━━━━━━━━━━━\u001b[0m\u001b[37m\u001b[0m \u001b[1m0s\u001b[0m 7ms/step - accuracy: 1.0000 - loss: 0.0132 - val_accuracy: 0.9806 - val_loss: 0.0703\n"
     ]
    },
    {
     "data": {
      "text/plain": [
       "<keras.src.callbacks.history.History at 0x1d4bfd8abd0>"
      ]
     },
     "execution_count": 70,
     "metadata": {},
     "output_type": "execute_result"
    }
   ],
   "source": [
    "import tensorflow as tf\n",
    "from tensorflow import keras\n",
    "from sklearn.datasets import load_digits\n",
    "from sklearn.model_selection import train_test_split\n",
    "from sklearn.preprocessing import StandardScaler\n",
    "\n",
    "# Chargement du jeu de données\n",
    "digits = load_digits()\n",
    "X = digits.data\n",
    "y = digits.target\n",
    "\n",
    "# Séparation en ensembles d'entraînement et de validation\n",
    "X_train, X_val, y_train, y_val = train_test_split(X, y, test_size=0.2, random_state=42)\n",
    "\n",
    "# Normalisation des données\n",
    "scaler = StandardScaler()\n",
    "X_train = scaler.fit_transform(X_train)\n",
    "X_val = scaler.transform(X_val)\n",
    "\n",
    "# Création du modèle DNN\n",
    "dnn_clf = keras.Sequential([\n",
    "    keras.layers.Dense(300, activation=\"relu\", input_shape=(X_train.shape[1],)),  # 1ère couche cachée\n",
    "    keras.layers.Dense(100, activation=\"relu\"),  # 2ème couche cachée\n",
    "    keras.layers.Dense(10, activation=\"softmax\")  # Couche de sortie pour 10 classes (digits de 0 à 9)\n",
    "])\n",
    "\n",
    "# Compilation du modèle\n",
    "dnn_clf.compile(optimizer=\"adam\", loss=\"sparse_categorical_crossentropy\", metrics=[\"accuracy\"])\n",
    "\n",
    "# Entraînement du modèle\n",
    "dnn_clf.fit(X_train, y_train, batch_size=50, epochs=10, validation_data=(X_val, y_val))\n"
   ]
  },
  {
   "cell_type": "code",
   "execution_count": 79,
   "id": "be6de932-2b9e-4faf-8ce7-5e283b83adde",
   "metadata": {},
   "outputs": [
    {
     "name": "stdout",
     "output_type": "stream",
     "text": [
      "\u001b[1m45/45\u001b[0m \u001b[32m━━━━━━━━━━━━━━━━━━━━\u001b[0m\u001b[37m\u001b[0m \u001b[1m0s\u001b[0m 2ms/step\n"
     ]
    }
   ],
   "source": [
    "from sklearn.metrics import accuracy_score\n",
    "y_pred_prob = dnn_clf.predict(X_train)\n",
    "\n",
    "y_pred = np.argmax(y_pred_prob, axis=1)"
   ]
  },
  {
   "cell_type": "code",
   "execution_count": 80,
   "id": "75142ce6-a7c2-497d-b152-7e9d2bbe23b4",
   "metadata": {},
   "outputs": [
    {
     "data": {
      "text/plain": [
       "1.0"
      ]
     },
     "execution_count": 80,
     "metadata": {},
     "output_type": "execute_result"
    }
   ],
   "source": [
    "accuracy_score(y_train, y_pred)"
   ]
  },
  {
   "cell_type": "code",
   "execution_count": 82,
   "id": "dab3e51a-4864-41ff-b28b-174f6be093fc",
   "metadata": {},
   "outputs": [
    {
     "data": {
      "text/plain": [
       "array([6, 0, 0, ..., 2, 7, 1])"
      ]
     },
     "execution_count": 82,
     "metadata": {},
     "output_type": "execute_result"
    }
   ],
   "source": [
    "y_train"
   ]
  }
 ],
 "metadata": {
  "kernelspec": {
   "display_name": "Environment (env)",
   "language": "python",
   "name": "env"
  },
  "language_info": {
   "codemirror_mode": {
    "name": "ipython",
    "version": 3
   },
   "file_extension": ".py",
   "mimetype": "text/x-python",
   "name": "python",
   "nbconvert_exporter": "python",
   "pygments_lexer": "ipython3",
   "version": "3.11.9"
  }
 },
 "nbformat": 4,
 "nbformat_minor": 5
}
